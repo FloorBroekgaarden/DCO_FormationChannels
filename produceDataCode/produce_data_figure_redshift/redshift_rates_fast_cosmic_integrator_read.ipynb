{
 "cells": [
  {
   "cell_type": "code",
   "execution_count": 3,
   "id": "bb0465f2",
   "metadata": {},
   "outputs": [
    {
     "name": "stderr",
     "output_type": "stream",
     "text": [
      "/var/folders/lc/vg4hc2nn2pn05y4lw3h5wmpm0000gn/T/ipykernel_4782/3036708214.py:2: DeprecationWarning: Importing display from IPython.core.display is deprecated since IPython 7.14, please import from IPython display\n",
      "  from IPython.core.display import display, HTML\n"
     ]
    },
    {
     "data": {
      "text/html": [
       "<style>.container { width:100% !important; }</style>"
      ],
      "text/plain": [
       "<IPython.core.display.HTML object>"
      ]
     },
     "metadata": {},
     "output_type": "display_data"
    }
   ],
   "source": [
    "\n",
    "# just to make the cells appear wider:\n",
    "from IPython.core.display import display, HTML\n",
    "display(HTML(\"<style>.container { width:100% !important; }</style>\"))\n",
    "\n",
    "\n",
    "\n",
    "import h5py as h5\n",
    "import numpy as np\n",
    "import os\n",
    "import matplotlib.pyplot as plt\n",
    "import pandas as pd\n",
    "import string\n"
   ]
  },
  {
   "cell_type": "code",
   "execution_count": 4,
   "id": "319e7427",
   "metadata": {},
   "outputs": [],
   "source": [
    "# run it using:\n",
    "\n",
    "# # Uncomment this below and copy paste it to run in terminal \n",
    "# python3 FastCosmicIntegration.py  --dco_type \"BHNS\", , withinHubbleTime=merges_hubble_time, pessimistic=pessimistic_CEE, noRLOFafterCEE=no_RLOF_after_CEE --mu0 0.035 --muz -0.23 --sigma0 0.39 --sigmaz 0.0 --alpha 0.0 --weight 'weight' --zstep 0.01 --sens O3 --m1min 10. --aSF 0.01 --bSF 2.77 --cSF 2.9 --dSF 4.7 --path '/Volumes/Andromeda2/DATA/AllDCO_bugfix/fiducial/COMPASCompactOutput_BHNS_A.h5'\n",
    "python3 FastCosmicIntegration.py  --dco_type \"BNS\" --mu0 0.035 --muz -0.23 --sigma0 0.39 --sigmaz 0.0 --alpha 0.0 --weight 'weight' --zstep 0.01 --sens O3 --m1min 5. --aSF 0.01 --bSF 2.77 --cSF 2.9 --dSF 4.7 --withinHubbleTime False --pessimistic True --noRLOFafterCEE False --path '/Volumes/Andromeda2/DATA/AllDCO_bugfix/fiducial/COMPASCompactOutput_BNS_A.h5'"
   ]
  },
  {
   "cell_type": "code",
   "execution_count": null,
   "id": "a3ea8c1d",
   "metadata": {},
   "outputs": [],
   "source": [
    "# plotting "
   ]
  },
  {
   "cell_type": "code",
   "execution_count": 30,
   "id": "c7e003eb",
   "metadata": {},
   "outputs": [
    {
     "name": "stdout",
     "output_type": "stream",
     "text": [
      "<KeysViewHDF5 ['RLOF', 'commonEnvelopes', 'doubleCompactObjects', 'formationChannels', 'supernovae', 'systems', 'weights_detected', 'weights_detectedPerRedshift', 'weights_intrinsic', 'weights_intrinsicPerRedshift']>\n",
      "6033721\n",
      "6033721\n",
      "0\n",
      "1891\n"
     ]
    }
   ],
   "source": [
    "\n",
    "\n",
    "fileLoc    =  '/Volumes/Andromeda2/DATA/AllDCO_bugfix/massTransferEfficiencyFixed_0_75/'\n",
    "filename   = 'COMPASCompactOutput_BBH_D.h5'\n",
    "\n",
    "full_data_path = fileLoc + filename\n",
    "\n",
    "################################################\n",
    "## Open hdf5 file\n",
    "File        = h5.File(fileLoc + filename ,'r')\n",
    "\n",
    "print(File.keys())\n",
    "\n",
    "# The group that contains the rate data\n",
    "rate_key = 'Rates_mu00.035_muz-0.23_alpha0.0_sigma00.39_sigmaz0.0'\n",
    "################################################\n",
    "## Read merger rate related data\n",
    "# redshifts                 = File[rate_key]['redshifts'][()] # Redshifts at which the rates were calculated\n",
    "# O1_detection_rate         = File[rate_key]['detection_rateO3'][()] # detection rate for O3 sensitivity \n",
    "\n",
    "# Read the DCO masses, Select only merging BBHs\n",
    "Mass1              = File['doubleCompactObjects']['M1'] # reads in the mass in [Msun] \n",
    "Mass2              = File['doubleCompactObjects']['M2'] # reads in the mass in [Msun] \n",
    "weight              = File['doubleCompactObjects']['weight'] # reads in the mass in [Msun]\n",
    "M_moreMassive      = np.maximum(Mass1, Mass2)\n",
    "M_lessMassive      = np.minimum(Mass1, Mass2)\n",
    "del Mass1\n",
    "del Mass2 \n",
    "print(len(M_moreMassive ))\n",
    "print(len(weight))\n",
    "\n",
    "optimisticCommonEnvelopeFlag = File[\"commonEnvelopes\"][\"optimisticCommonEnvelopeFlag\"]\n",
    "print(np.sum(optimisticCommonEnvelopeFlag))\n",
    "immediateRLOFAfterCEE = File[\"commonEnvelopes\"][\"immediateRLOFAfterCEE\"]\n",
    "print(np.sum(immediateRLOFAfterCEE))\n",
    "File.close()\n",
    "\n",
    "\n",
    "\n"
   ]
  },
  {
   "cell_type": "code",
   "execution_count": 24,
   "id": "b797a218",
   "metadata": {},
   "outputs": [
    {
     "ename": "NameError",
     "evalue": "name 'get_COMPAS_variables' is not defined",
     "output_type": "error",
     "traceback": [
      "\u001b[0;31m---------------------------------------------------------------------------\u001b[0m",
      "\u001b[0;31mNameError\u001b[0m                                 Traceback (most recent call last)",
      "Cell \u001b[0;32mIn[24], line 2\u001b[0m\n\u001b[1;32m      1\u001b[0m stellar_type_1, stellar_type_2, hubble_flag, dco_seeds \u001b[38;5;241m=\u001b[39m \\\n\u001b[0;32m----> 2\u001b[0m     \u001b[43mget_COMPAS_variables\u001b[49m(\u001b[38;5;124m\"\u001b[39m\u001b[38;5;124mdoubleCompactObjects\u001b[39m\u001b[38;5;124m\"\u001b[39m, [\u001b[38;5;124m\"\u001b[39m\u001b[38;5;124mstellarType1\u001b[39m\u001b[38;5;124m\"\u001b[39m, \u001b[38;5;124m\"\u001b[39m\u001b[38;5;124mstellarType2\u001b[39m\u001b[38;5;124m\"\u001b[39m, \u001b[38;5;124m\"\u001b[39m\u001b[38;5;124mmergesInHubbleTimeFlag\u001b[39m\u001b[38;5;124m\"\u001b[39m, \u001b[38;5;124m\"\u001b[39m\u001b[38;5;124mseed\u001b[39m\u001b[38;5;124m\"\u001b[39m])\n\u001b[1;32m      4\u001b[0m \u001b[38;5;28;01mif\u001b[39;00m types \u001b[38;5;241m==\u001b[39m \u001b[38;5;124m\"\u001b[39m\u001b[38;5;124mCHE_BBH\u001b[39m\u001b[38;5;124m\"\u001b[39m \u001b[38;5;129;01mor\u001b[39;00m types \u001b[38;5;241m==\u001b[39m \u001b[38;5;124m\"\u001b[39m\u001b[38;5;124mNON_CHE_BBH\u001b[39m\u001b[38;5;124m\"\u001b[39m:\n\u001b[1;32m      5\u001b[0m     stellar_type_1_zams, stellar_type_2_zams, che_ms_1, che_ms_2, sys_seeds \u001b[38;5;241m=\u001b[39m \\\n\u001b[1;32m      6\u001b[0m         get_COMPAS_variables(\u001b[38;5;124m\"\u001b[39m\u001b[38;5;124msystems\u001b[39m\u001b[38;5;124m\"\u001b[39m, [\u001b[38;5;124m\"\u001b[39m\u001b[38;5;124mStellar_Type@ZAMS(1)\u001b[39m\u001b[38;5;124m\"\u001b[39m, \u001b[38;5;124m\"\u001b[39m\u001b[38;5;124mStellar_Type@ZAMS(2)\u001b[39m\u001b[38;5;124m\"\u001b[39m, \u001b[38;5;124m\"\u001b[39m\u001b[38;5;124mSEED\u001b[39m\u001b[38;5;124m\"\u001b[39m])\n",
      "\u001b[0;31mNameError\u001b[0m: name 'get_COMPAS_variables' is not defined"
     ]
    }
   ],
   "source": [
    "stellar_type_1, stellar_type_2, hubble_flag, dco_seeds = \\\n",
    "    get_COMPAS_variables(\"doubleCompactObjects\", [\"stellarType1\", \"stellarType2\", \"mergesInHubbleTimeFlag\", \"seed\"])\n",
    "\n",
    "if types == \"CHE_BBH\" or types == \"NON_CHE_BBH\":\n",
    "    stellar_type_1_zams, stellar_type_2_zams, che_ms_1, che_ms_2, sys_seeds = \\\n",
    "        get_COMPAS_variables(\"systems\", [\"Stellar_Type@ZAMS(1)\", \"Stellar_Type@ZAMS(2)\", \"SEED\"])\n",
    "\n",
    "    che_mask  = np.logical_and.reduce((stellar_type_1_zams == 16, stellar_type_2_zams == 16, che_ms_1 == True, che_ms_2 == True))\n",
    "    che_seeds = sys_seeds[()][che_mask]\n",
    "\n",
    "CHE_mask = np.in1d(dco_seeds, che_seeds) if types == \"CHE_BBH\" or types == \"NON_CHE_BBH\" else np.repeat(False, len(dco_seeds)) #// Floor \n",
    "\n",
    "# if user wants to mask on Hubble time use the flag, otherwise just set all to True\n",
    "hubble_mask = hubble_flag.astype(bool) if withinHubbleTime else np.repeat(True, len(dco_seeds))\n",
    "\n",
    "# mask on stellar types (where 14=BH and 13=NS), BHNS can be BHNS or NSBH\n",
    "type_masks = {\n",
    "    \"all\": np.repeat(True, len(dco_seeds)),\n",
    "    \"BBH\": np.logical_and(stellar_type_1 == 14, stellar_type_2 == 14),\n",
    "    \"BHNS\": np.logical_or(np.logical_and(stellar_type_1 == 14, stellar_type_2 == 13), np.logical_and(stellar_type_1 == 13, stellar_type_2 == 14)),\n",
    "    \"BNS\": np.logical_and(stellar_type_1 == 13, stellar_type_2 == 13),\n",
    "}\n",
    "type_masks[\"CHE_BBH\"]     = np.logical_and(CHE_mask, type_masks[\"BBH\"]) if types == \"CHE_BBH\" else np.repeat(False, len(dco_seeds))\n",
    "type_masks[\"NON_CHE_BBH\"] = np.logical_and(np.logical_not(CHE_mask), type_masks[\"BBH\"]) if types == \"NON_CHE_BBH\" else np.repeat(True, len(dco_seeds))\n",
    "\n",
    "# if the user wants to make RLOF or optimistic CEs\n",
    "if noRLOFafterCEE or pessimistic:\n",
    "\n",
    "    # get the flags and unique seeds from the Common Envelopes file\n",
    "    ce_seeds = get_COMPAS_variables(\"commonEnvelopes\", \"randomSeed\")\n",
    "    dco_from_ce = np.in1d(ce_seeds, dco_seeds)\n",
    "    dco_ce_seeds = ce_seeds[dco_from_ce]\n",
    "\n",
    "    # if masking on RLOF, get flag and match seeds to dco seeds\n",
    "    if noRLOFafterCEE:\n",
    "        rlof_flag = get_COMPAS_variables(\"commonEnvelopes\", \"immediateRLOFAfterCEE\")[dco_from_ce].astype(bool)\n",
    "        rlof_seeds = np.unique(dco_ce_seeds[rlof_flag])\n",
    "        rlof_mask = np.logical_not(np.in1d(dco_seeds, rlof_seeds))\n",
    "    else:\n",
    "        rlof_mask = np.repeat(True, len(dco_seeds))\n",
    "\n",
    "    # if masking on pessimistic CE, get flag and match seeds to dco seeds\n",
    "    if pessimistic:\n",
    "        pessimistic_flag = get_COMPAS_variables(\"commonEnvelopes\", \"optimisticCommonEnvelopeFlag\")[dco_from_ce].astype(bool)\n",
    "        pessimistic_seeds = np.unique(dco_ce_seeds[pessimistic_flag])\n",
    "        pessimistic_mask = np.logical_not(np.in1d(dco_seeds, pessimistic_seeds))\n",
    "    else:\n",
    "        pessimistic_mask = np.repeat(True, len(dco_seeds))\n",
    "else:\n",
    "    rlof_mask = np.repeat(True, len(dco_seeds))\n",
    "    pessimistic_mask = np.repeat(True, len(dco_seeds))"
   ]
  },
  {
   "cell_type": "code",
   "execution_count": null,
   "id": "8266f98b",
   "metadata": {},
   "outputs": [],
   "source": []
  },
  {
   "cell_type": "code",
   "execution_count": 18,
   "id": "d3866565",
   "metadata": {},
   "outputs": [
    {
     "name": "stdout",
     "output_type": "stream",
     "text": [
      "<KeysViewHDF5 ['DCOmask', 'SEED', 'detection_rateO3', 'merger_rate', 'merger_rate_z0', 'redshifts']>\n",
      "[2.87144148e-48 2.85379854e-47 6.04963904e-51 ... 7.28589266e-05\n",
      " 7.90357441e-05 2.60657742e-04]\n",
      "available redshifts are:  [ 0.    0.01  0.02 ...  9.98  9.99 10.  ]  this gives 1001 options\n",
      "(233137, 100)\n",
      "the redshift weights per system at z =  0.03  are given by\n",
      "233137\n"
     ]
    }
   ],
   "source": [
    "File        = h5.File(fileLoc + filename ,'r')\n",
    "\n",
    "print(File['Rates_mu00.035_muz-0.23_alpha0.0_sigma00.39_sigmaz0.0'].keys())\n",
    "\n",
    "\n",
    "w_0 = File['Rates_mu00.035_muz-0.23_alpha0.0_sigma00.39_sigmaz0.0']['merger_rate_z0'][...].squeeze()\n",
    "\n",
    "print(w_0)\n",
    "redshifts = File['Rates_mu00.035_muz-0.23_alpha0.0_sigma00.39_sigmaz0.0']['redshifts'][...].squeeze()\n",
    "print('available redshifts are: ', redshifts, ' this gives %s options'%len(redshifts))\n",
    "\n",
    "w_per_z_per_system = File['Rates_mu00.035_muz-0.23_alpha0.0_sigma00.39_sigmaz0.0']['merger_rate'][...].squeeze()\n",
    "\n",
    "print(np.shape(w_per_z_per_system))\n",
    "\n",
    "z_index = 3\n",
    "\n",
    "print('the redshift weights per system at z = ', redshifts[z_index], ' are given by' )\n",
    "w_z_index =w_per_z_per_system[:,z_index]\n",
    "print(len(w_z_index))\n",
    "\n"
   ]
  },
  {
   "cell_type": "code",
   "execution_count": 23,
   "id": "ca569b13",
   "metadata": {},
   "outputs": [
    {
     "data": {
      "image/png": "[encoded data removed]",
      "text/plain": [
       "<Figure size 640x480 with 1 Axes>"
      ]
     },
     "metadata": {},
     "output_type": "display_data"
    }
   ],
   "source": [
    "\n",
    "plt.plot(redshifts[:100], np.sum(w_per_z_per_system, axis=0)[:100])\n",
    "plt.xlabel('redshift z')\n",
    "plt.ylabel(r'BHNS merger rate at $z =%s [\\rm{Gpc}^{-3} \\rm{yr}^{-1}]$'%np.round(redshifts[z_index],3), fontsize=12)\n",
    "plt.title('BH-NS merger rate', fontsize=20)\n",
    "plt.show()"
   ]
  },
  {
   "cell_type": "code",
   "execution_count": null,
   "id": "c531e5e9",
   "metadata": {},
   "outputs": [],
   "source": []
  }
 ],
 "metadata": {
  "kernelspec": {
   "display_name": "Python 3 (ipykernel)",
   "language": "python",
   "name": "python3"
  },
  "language_info": {
   "codemirror_mode": {
    "name": "ipython",
    "version": 3
   },
   "file_extension": ".py",
   "mimetype": "text/x-python",
   "name": "python",
   "nbconvert_exporter": "python",
   "pygments_lexer": "ipython3",
   "version": "3.9.16"
  }
 },
 "nbformat": 4,
 "nbformat_minor": 5
}
