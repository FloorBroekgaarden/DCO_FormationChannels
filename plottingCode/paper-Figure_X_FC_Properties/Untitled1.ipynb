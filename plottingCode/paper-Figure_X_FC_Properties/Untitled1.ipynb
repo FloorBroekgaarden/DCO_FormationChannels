{
 "cells": [
  {
   "cell_type": "code",
   "execution_count": 2,
   "id": "c34db33b",
   "metadata": {},
   "outputs": [
    {
     "ename": "ModuleNotFoundError",
     "evalue": "No module named 'KDEpy'",
     "output_type": "error",
     "traceback": [
      "\u001b[0;31m---------------------------------------------------------------------------\u001b[0m",
      "\u001b[0;31mModuleNotFoundError\u001b[0m                       Traceback (most recent call last)",
      "Cell \u001b[0;32mIn[2], line 8\u001b[0m\n\u001b[1;32m      4\u001b[0m \u001b[38;5;66;03m#Quick fudge to make import from ../Scripts work\u001b[39;00m\n\u001b[1;32m      5\u001b[0m \u001b[38;5;66;03m# sys.path.append('../../../common_code')\u001b[39;00m\n\u001b[1;32m      6\u001b[0m \u001b[38;5;66;03m# from PostProcessingScripts import * \u001b[39;00m\n\u001b[1;32m      7\u001b[0m sys\u001b[38;5;241m.\u001b[39mpath\u001b[38;5;241m.\u001b[39mappend(\u001b[38;5;124m'\u001b[39m\u001b[38;5;124m../../../common_code/KDEpy/KDEpy\u001b[39m\u001b[38;5;124m'\u001b[39m)\n\u001b[0;32m----> 8\u001b[0m \u001b[38;5;28;01mfrom\u001b[39;00m \u001b[38;5;21;01mKDEpy\u001b[39;00m \u001b[38;5;28;01mimport\u001b[39;00m FFTKDE \n\u001b[1;32m      9\u001b[0m \u001b[38;5;66;03m# from ClassFormationChannels_5mainchannels import * \u001b[39;00m\n\u001b[1;32m     11\u001b[0m \u001b[38;5;28;01mfrom\u001b[39;00m \u001b[38;5;21;01mIPython\u001b[39;00m\u001b[38;5;21;01m.\u001b[39;00m\u001b[38;5;21;01mcore\u001b[39;00m\u001b[38;5;21;01m.\u001b[39;00m\u001b[38;5;21;01mdisplay\u001b[39;00m \u001b[38;5;28;01mimport\u001b[39;00m display, HTML\n",
      "\u001b[0;31mModuleNotFoundError\u001b[0m: No module named 'KDEpy'"
     ]
    }
   ],
   "source": [
    "#Needed in general\n",
    "import sys\n",
    "\n",
    "#Quick fudge to make import from ../Scripts work\n",
    "# sys.path.append('../../../common_code')\n",
    "# from PostProcessingScripts import * \n",
    "sys.path.append('../../../common_code/KDEpy/KDEpy')\n",
    "from KDEpy import FFTKDE \n",
    "# from ClassFormationChannels_5mainchannels import * \n",
    "\n",
    "from IPython.core.display import display, HTML\n",
    "display(HTML(\"<style>.container { width:100% !important; }</style>\"))\n",
    "\n"
   ]
  },
  {
   "cell_type": "code",
   "execution_count": null,
   "id": "7d9ef979",
   "metadata": {},
   "outputs": [],
   "source": [
    "python3.9 --version"
   ]
  },
  {
   "cell_type": "code",
   "execution_count": 3,
   "id": "aba50a4b",
   "metadata": {},
   "outputs": [
    {
     "ename": "SyntaxError",
     "evalue": "invalid syntax (3345957070.py, line 1)",
     "output_type": "error",
     "traceback": [
      "\u001b[0;36m  Cell \u001b[0;32mIn[3], line 1\u001b[0;36m\u001b[0m\n\u001b[0;31m    import KDEpy-1.1.0\u001b[0m\n\u001b[0m                ^\u001b[0m\n\u001b[0;31mSyntaxError\u001b[0m\u001b[0;31m:\u001b[0m invalid syntax\n"
     ]
    }
   ],
   "source": [
    "import KDEpy-1.1.0"
   ]
  },
  {
   "cell_type": "code",
   "execution_count": null,
   "id": "e13c9591",
   "metadata": {},
   "outputs": [],
   "source": []
  }
 ],
 "metadata": {
  "kernelspec": {
   "display_name": "Python (ipykernel_py39)",
   "language": "python",
   "name": "ipykernel_py39"
  },
  "language_info": {
   "codemirror_mode": {
    "name": "ipython",
    "version": 3
   },
   "file_extension": ".py",
   "mimetype": "text/x-python",
   "name": "python",
   "nbconvert_exporter": "python",
   "pygments_lexer": "ipython3",
   "version": "3.9.16"
  }
 },
 "nbformat": 4,
 "nbformat_minor": 5
}
